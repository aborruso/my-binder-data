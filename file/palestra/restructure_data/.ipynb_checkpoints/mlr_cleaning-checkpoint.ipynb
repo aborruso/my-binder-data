{
 "cells": [
  {
   "cell_type": "markdown",
   "id": "181d0200-b554-4a3b-9e78-619760deae4a",
   "metadata": {},
   "source": [
    "# Intro\n",
    "\n",
    "In questo esempio si prende in input un file CSV strutturato molto male e lo si rende più usabile con Miller.\n",
    "\n",
    "## Il comando\n",
    "\n",
    "Il comando completo è quello di sotto"
   ]
  },
  {
   "cell_type": "code",
   "execution_count": 1,
   "id": "7fc6f8f9-7eda-4ee4-b7ce-94898f16cd27",
   "metadata": {},
   "outputs": [],
   "source": [
    "mlr --csv --ifs \";\" \\\n",
    "    gsub -a '^ *$' '' \\\n",
    "    then rename -r '\"^.+APPA.+$\",COMUNI' \\\n",
    "    then put 'if(is_null(${COMUNI})){${COMUNI}=\"n\"}else{${COMUNI}=${COMUNI}}' \\\n",
    "    then fill-down --all \\\n",
    "    then filter -x '$COMUNI==\"n\"' \\\n",
    "    elenco-unioni-comuni-comp.csv >elenco-unioni-comuni-comp_clean.csv"
   ]
  },
  {
   "cell_type": "markdown",
   "id": "4dd1cae7-d506-4722-88d8-d5085da12035",
   "metadata": {},
   "source": [
    "E si passa da"
   ]
  },
  {
   "cell_type": "code",
   "execution_count": null,
   "id": "8758da10-27e6-474a-b727-c1211f57e658",
   "metadata": {},
   "outputs": [
    {
     "name": "stdout",
     "output_type": "stream",
     "text": [
      "NR.;CODICE UNIONE;REGIONE;PROVINCIA;DESCRIZIONE UNIONE DI COMUNI;DATA COSTITUZI\u001b[m\u001b[7m>\u001b[27m\n",
      "0;4130236090;ABRUZZO;CHIETI;UNIONE DEI COMUNI DELLA VALLATA DEL FORO;30-Lug-202\u001b[m\u001b[7m>\u001b[27m\n",
      "1; ; ; ; ; ;;ARI;581;584;1165\u001b[m\n",
      "2; ; ; ; ; ;;RIPA TEATINA;2128;2060;4188\u001b[m\n",
      "3; ; ; ; ; ;;VACRI;835;867;1702\u001b[m\n",
      "4; ; ; ; ; ;;VILLAMAGNA;1218;1219;2437\u001b[m\n",
      "0;4130236080;ABRUZZO;CHIETI;UNIONE DEI COMUNI MONTANI MAIELLA ORIENTALE - VERDE\u001b[m\u001b[7m>\u001b[27m\n",
      "1; ; ; ; ; ;;CIVITELLA MESSER RAIMONDO;421;440;861\u001b[m\n",
      "2; ; ; ; ; ;;COLLEDIMACINE;120;117;237\u001b[m\n",
      "3; ; ; ; ; ;;LAMA DEI PELIGNI;646;718;1364\u001b[m\n"
     ]
    }
   ],
   "source": [
    "head elenco-unioni-comuni-comp.csv | less -S"
   ]
  },
  {
   "cell_type": "code",
   "execution_count": null,
   "id": "45c2888d-24e7-42fd-9f4d-82b55e0ec059",
   "metadata": {},
   "outputs": [],
   "source": []
  }
 ],
 "metadata": {
  "kernelspec": {
   "display_name": "Bash",
   "language": "bash",
   "name": "bash"
  },
  "language_info": {
   "codemirror_mode": "shell",
   "file_extension": ".sh",
   "mimetype": "text/x-sh",
   "name": "bash"
  }
 },
 "nbformat": 4,
 "nbformat_minor": 5
}
