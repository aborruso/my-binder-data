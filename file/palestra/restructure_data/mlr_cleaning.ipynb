{
 "cells": [
  {
   "cell_type": "markdown",
   "id": "181d0200-b554-4a3b-9e78-619760deae4a",
   "metadata": {},
   "source": [
    "# Intro\n",
    "\n",
    "In questo esempio si prende in input un file CSV strutturato molto male e lo si rende più usabile con Miller.\n",
    "\n",
    "## Il comando\n",
    "\n",
    "Il comando completo è quello di sotto"
   ]
  },
  {
   "cell_type": "code",
   "execution_count": 5,
   "id": "7fc6f8f9-7eda-4ee4-b7ce-94898f16cd27",
   "metadata": {},
   "outputs": [],
   "source": [
    "mlr --csv --ifs \";\" \\\n",
    "    gsub -a '^ *$' '' \\\n",
    "    then rename -r '\"^.+APPA.+$\",COMUNI' \\\n",
    "    then put 'if(is_null(${COMUNI})){${COMUNI}=\"n\"}else{${COMUNI}=${COMUNI}}' \\\n",
    "    then fill-down --all \\\n",
    "    then filter -x '$COMUNI==\"n\"' \\\n",
    "    elenco-unioni-comuni-comp.csv >elenco-unioni-comuni-comp_clean.csv"
   ]
  }
 ],
 "metadata": {
  "kernelspec": {
   "display_name": "Bash",
   "language": "bash",
   "name": "bash"
  },
  "language_info": {
   "codemirror_mode": "shell",
   "file_extension": ".sh",
   "mimetype": "text/x-sh",
   "name": "bash"
  }
 },
 "nbformat": 4,
 "nbformat_minor": 5
}
