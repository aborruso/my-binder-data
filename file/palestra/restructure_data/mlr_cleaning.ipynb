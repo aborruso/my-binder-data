{
 "cells": [
  {
   "cell_type": "markdown",
   "id": "181d0200-b554-4a3b-9e78-619760deae4a",
   "metadata": {},
   "source": [
    "# Intro\n",
    "\n",
    "In questo esempio si prende in input un file CSV strutturato molto male e lo si rende più usabile con Miller.\n",
    "\n",
    "## Il comando\n",
    "\n",
    "Il comando completo è quello di sotto"
   ]
  },
  {
   "cell_type": "code",
   "execution_count": 1,
   "id": "7fc6f8f9-7eda-4ee4-b7ce-94898f16cd27",
   "metadata": {},
   "outputs": [],
   "source": [
    "mlr --csv --ifs \";\" \\\n",
    "    gsub -a '^ *$' '' \\\n",
    "    then rename -r '\"^.+APPA.+$\",COMUNI' \\\n",
    "    then put 'if(is_null(${COMUNI})){${COMUNI}=\"n\"}else{${COMUNI}=${COMUNI}}' \\\n",
    "    then fill-down --all \\\n",
    "    then filter -x '$COMUNI==\"n\"' \\\n",
    "    elenco-unioni-comuni-comp.csv >elenco-unioni-comuni-comp_clean.csv"
   ]
  },
  {
   "cell_type": "markdown",
   "id": "4dd1cae7-d506-4722-88d8-d5085da12035",
   "metadata": {},
   "source": [
    "E si passa da"
   ]
  },
  {
   "cell_type": "code",
   "execution_count": 9,
   "id": "8758da10-27e6-474a-b727-c1211f57e658",
   "metadata": {},
   "outputs": [
    {
     "name": "stdout",
     "output_type": "stream",
     "text": [
      "NR.\u001b[0m CODICE UNIONE\u001b[0m REGIONE\u001b[0m PROVINCIA\u001b[0m DESCRIZIONE UNIONE DI COMUNI\u001b[0m\n",
      "0\u001b[0m   4130236090\u001b[0m    ABRUZZO\u001b[0m CHIETI\u001b[0m    UNIONE DEI COMUNI DELLA VALLATA DEL FORO\u001b[0m\n",
      "1\u001b[0m    \u001b[0m              \u001b[0m        \u001b[0m          \u001b[0m\n",
      "2\u001b[0m    \u001b[0m              \u001b[0m        \u001b[0m          \u001b[0m\n",
      "3\u001b[0m    \u001b[0m              \u001b[0m        \u001b[0m          \u001b[0m\n",
      "4\u001b[0m    \u001b[0m              \u001b[0m        \u001b[0m          \u001b[0m\n",
      "0\u001b[0m   4130236080\u001b[0m    ABRUZZO\u001b[0m CHIETI\u001b[0m    UNIONE DEI COMUNI MONTANI MAIELLA ORIENTALE - VERDE AVENTINO\u001b[0m\n",
      "1\u001b[0m    \u001b[0m              \u001b[0m        \u001b[0m          \u001b[0m\n",
      "2\u001b[0m    \u001b[0m              \u001b[0m        \u001b[0m          \u001b[0m\n",
      "3\u001b[0m    \u001b[0m              \u001b[0m        \u001b[0m          \u001b[0m\n"
     ]
    }
   ],
   "source": [
    "mlr --c2p --ifs \";\" -N head then cut -f 1,2,3,4,5 elenco-unioni-comuni-comp.csv"
   ]
  },
  {
   "cell_type": "markdown",
   "id": "8e897e3e-d1f5-417d-a272-7da6acea40c5",
   "metadata": {},
   "source": [
    "a"
   ]
  },
  {
   "cell_type": "code",
   "execution_count": 12,
   "id": "93939121-4ed4-4341-8a28-6f45107f8f7f",
   "metadata": {},
   "outputs": [
    {
     "name": "stdout",
     "output_type": "stream",
     "text": [
      "NR.\u001b[0m CODICE UNIONE\u001b[0m REGIONE\u001b[0m PROVINCIA\u001b[0m DESCRIZIONE UNIONE DI COMUNI\u001b[0m\n",
      "1\u001b[0m   4130236090\u001b[0m    ABRUZZO\u001b[0m CHIETI\u001b[0m    UNIONE DEI COMUNI DELLA VALLATA DEL FORO\u001b[0m\n",
      "2\u001b[0m   4130236090\u001b[0m    ABRUZZO\u001b[0m CHIETI\u001b[0m    UNIONE DEI COMUNI DELLA VALLATA DEL FORO\u001b[0m\n",
      "3\u001b[0m   4130236090\u001b[0m    ABRUZZO\u001b[0m CHIETI\u001b[0m    UNIONE DEI COMUNI DELLA VALLATA DEL FORO\u001b[0m\n",
      "4\u001b[0m   4130236090\u001b[0m    ABRUZZO\u001b[0m CHIETI\u001b[0m    UNIONE DEI COMUNI DELLA VALLATA DEL FORO\u001b[0m\n",
      "1\u001b[0m   4130236080\u001b[0m    ABRUZZO\u001b[0m CHIETI\u001b[0m    UNIONE DEI COMUNI MONTANI MAIELLA ORIENTALE - VERDE AVENTINO\u001b[0m\n",
      "2\u001b[0m   4130236080\u001b[0m    ABRUZZO\u001b[0m CHIETI\u001b[0m    UNIONE DEI COMUNI MONTANI MAIELLA ORIENTALE - VERDE AVENTINO\u001b[0m\n",
      "3\u001b[0m   4130236080\u001b[0m    ABRUZZO\u001b[0m CHIETI\u001b[0m    UNIONE DEI COMUNI MONTANI MAIELLA ORIENTALE - VERDE AVENTINO\u001b[0m\n",
      "4\u001b[0m   4130236080\u001b[0m    ABRUZZO\u001b[0m CHIETI\u001b[0m    UNIONE DEI COMUNI MONTANI MAIELLA ORIENTALE - VERDE AVENTINO\u001b[0m\n",
      "5\u001b[0m   4130236080\u001b[0m    ABRUZZO\u001b[0m CHIETI\u001b[0m    UNIONE DEI COMUNI MONTANI MAIELLA ORIENTALE - VERDE AVENTINO\u001b[0m\n"
     ]
    }
   ],
   "source": [
    "mlr --c2p -N head then cut -f 1,2,3,4,5 elenco-unioni-comuni-comp_clean.csv"
   ]
  },
  {
   "cell_type": "code",
   "execution_count": null,
   "id": "b48d6de8-1dbc-49cc-b689-f5f58d01dd5a",
   "metadata": {},
   "outputs": [],
   "source": []
  }
 ],
 "metadata": {
  "kernelspec": {
   "display_name": "Bash",
   "language": "bash",
   "name": "bash"
  },
  "language_info": {
   "codemirror_mode": "shell",
   "file_extension": ".sh",
   "mimetype": "text/x-sh",
   "name": "bash"
  }
 },
 "nbformat": 4,
 "nbformat_minor": 5
}
